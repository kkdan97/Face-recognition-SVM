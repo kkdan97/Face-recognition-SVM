{
 "cells": [
  {
   "cell_type": "code",
   "execution_count": 27,
   "metadata": {},
   "outputs": [
    {
     "name": "stdout",
     "output_type": "stream",
     "text": [
      "[INFO] starting video stream...\n",
      "[INFO] 0 face images stored\n",
      "[INFO] cleaning up...\n"
     ]
    }
   ],
   "source": [
    "# import the necessary packages\n",
    "from imutils.video import VideoStream\n",
    "# import argparse\n",
    "import imutils\n",
    "import time\n",
    "import cv2\n",
    "import os\n",
    "\n",
    "# construct the argument parser and parse the arguments\n",
    "# ap = argparse.ArgumentParser()\n",
    "# ap.add_argument(\"-c\", \"--cascade\", required=True,\n",
    "# \thelp = \"path to where the face cascade resides\")\n",
    "# ap.add_argument(\"-o\", \"--output\", required=True,\n",
    "# \thelp=\"path to output directory\")\n",
    "# args = vars(ap.parse_args())\n",
    "\n",
    "# load OpenCV's Haar cascade for face detection from disk\n",
    "detector = cv2.CascadeClassifier(\"C:/Users/DANIELDANI/AppData/Local/Programs/Python/Python37-32/Lib/site-packages/cv2/data/haarcascade_frontalface_default.xml\")\n",
    "\n",
    "# initialize the video stream, allow the camera sensor to warm up,\n",
    "# and initialize the total number of example faces written to disk\n",
    "# thus far\n",
    "print(\"[INFO] starting video stream...\")\n",
    "vs = VideoStream(src=0).start()\n",
    "# vs = VideoStream(usePiCamera=True).start()\n",
    "time.sleep(2.0)\n",
    "total = 0\n",
    "\n",
    "# loop over the frames from the video stream\n",
    "while True:\n",
    "\t# grab the frame from the threaded video stream, clone it, (just\n",
    "\t# in case we want to write it to disk), and then resize the frame\n",
    "\t# so we can apply face detection faster\n",
    "\tframe = vs.read()\n",
    "\torig = frame.copy()\n",
    "\tframe = imutils.resize(frame, width=400)\n",
    "\n",
    "\t# detect faces in the grayscale frame\n",
    "\trects = detector.detectMultiScale(\n",
    "\t\tcv2.cvtColor(frame, cv2.COLOR_BGR2GRAY), scaleFactor=1.1, \n",
    "\t\tminNeighbors=5, minSize=(30, 30))\n",
    "\n",
    "\t# loop over the face detections and draw them on the frame\n",
    "\tfor (x, y, w, h) in rects:\n",
    "\t\tcv2.rectangle(frame, (x, y), (x + w, y + h), (0, 255, 0), 2)\n",
    "        \n",
    "    \t# show the output frame\n",
    "\tcv2.imshow(\"Frame\", frame)\n",
    "\tkey = cv2.waitKey(1) & 0xFF\n",
    " \n",
    "\t# if the `k` key was pressed, write the *original* frame to disk\n",
    "\t# so we can later process it and use it for face recognition\n",
    "\tif key == ord(\"k\"):\n",
    "\t\tp = os.path.sep.join(['dataset/vinodh/', \"{}.png\".format(\n",
    "\t\t\tstr(total).zfill(5))])\n",
    "\t\tcv2.imwrite(p, orig)\n",
    "\t\ttotal += 1\n",
    "\n",
    "\t# if the `q` key was pressed, break from the loop\n",
    "\telif key == ord(\"q\"):\n",
    "\t\tbreak\n",
    "        \n",
    "# print the total faces saved and do a bit of cleanup\n",
    "print(\"[INFO] {} face images stored\".format(total))\n",
    "print(\"[INFO] cleaning up...\")\n",
    "cv2.destroyAllWindows()\n",
    "vs.stop()"
   ]
  },
  {
   "cell_type": "code",
   "execution_count": 38,
   "metadata": {},
   "outputs": [],
   "source": [
    "# import the necessary packages\n",
    "from imutils import paths\n",
    "import numpy as np\n",
    "import imutils\n",
    "import pickle\n",
    "import cv2\n",
    "import os\n",
    "import matplotlib.pyplot as plt\n",
    "import re\n",
    "import pandas as pd"
   ]
  },
  {
   "cell_type": "code",
   "execution_count": 39,
   "metadata": {},
   "outputs": [],
   "source": [
    "detector = cv2.dnn.readNetFromCaffe('face_detection_model/deploy.prototxt' ,'face_detection_model/res10_300x300_ssd_iter_140000.caffemodel')\n",
    "embedder = cv2.dnn.readNetFromTorch('openface_nn4.small2.v1.t7')"
   ]
  },
  {
   "cell_type": "code",
   "execution_count": 40,
   "metadata": {},
   "outputs": [],
   "source": [
    "image_paths = list(paths.list_images('dataset/'))"
   ]
  },
  {
   "cell_type": "code",
   "execution_count": 41,
   "metadata": {},
   "outputs": [],
   "source": [
    "known_embeddings = []\n",
    "known_names = []\n",
    "\n",
    "total = 0"
   ]
  },
  {
   "cell_type": "code",
   "execution_count": 42,
   "metadata": {},
   "outputs": [],
   "source": [
    "# test = image_paths[0]\n",
    "# test\n",
    "# imdum = cv2.imread(test)\n",
    "# imdum = imutils.resize(imdum, width=600) \n",
    "# (dum, dumil) = imdum.shape[:2]\n",
    "# imageBlobdum = cv2.dnn.blobFromImage(cv2.resize(imdum, (300, 300)), 1.0, (300, 300), (104.0, 177.0, 123.0), swapRB=False, crop=False)"
   ]
  },
  {
   "cell_type": "code",
   "execution_count": 43,
   "metadata": {},
   "outputs": [
    {
     "name": "stdout",
     "output_type": "stream",
     "text": [
      "[INFO] processing image 1/129\n",
      "dani\n",
      "[INFO] processing image 2/129\n",
      "dani\n",
      "[INFO] processing image 3/129\n",
      "dani\n",
      "[INFO] processing image 4/129\n",
      "dani\n",
      "[INFO] processing image 5/129\n",
      "dani\n",
      "[INFO] processing image 6/129\n",
      "dani\n",
      "[INFO] processing image 7/129\n",
      "dani\n",
      "[INFO] processing image 8/129\n",
      "dani\n",
      "[INFO] processing image 9/129\n",
      "dani\n",
      "[INFO] processing image 10/129\n",
      "dani\n",
      "[INFO] processing image 11/129\n",
      "dani\n",
      "[INFO] processing image 12/129\n",
      "dani\n",
      "[INFO] processing image 13/129\n",
      "dani\n",
      "[INFO] processing image 14/129\n",
      "dani\n",
      "[INFO] processing image 15/129\n",
      "dani\n",
      "[INFO] processing image 16/129\n",
      "dani\n",
      "[INFO] processing image 17/129\n",
      "dani\n",
      "[INFO] processing image 18/129\n",
      "dani\n",
      "[INFO] processing image 19/129\n",
      "dani\n",
      "[INFO] processing image 20/129\n",
      "dani\n",
      "[INFO] processing image 21/129\n",
      "dani\n",
      "[INFO] processing image 22/129\n",
      "dani\n",
      "[INFO] processing image 23/129\n",
      "dani\n",
      "[INFO] processing image 24/129\n",
      "dani\n",
      "[INFO] processing image 25/129\n",
      "dani\n",
      "[INFO] processing image 26/129\n",
      "dani\n",
      "[INFO] processing image 27/129\n",
      "dani\n",
      "[INFO] processing image 28/129\n",
      "dani\n",
      "[INFO] processing image 29/129\n",
      "dani\n",
      "[INFO] processing image 30/129\n",
      "dani\n",
      "[INFO] processing image 31/129\n",
      "dani\n",
      "[INFO] processing image 32/129\n",
      "dani\n",
      "[INFO] processing image 33/129\n",
      "dani\n",
      "[INFO] processing image 34/129\n",
      "dani\n",
      "[INFO] processing image 35/129\n",
      "dani\n",
      "[INFO] processing image 36/129\n",
      "dani\n",
      "[INFO] processing image 37/129\n",
      "dani\n",
      "[INFO] processing image 38/129\n",
      "dani\n",
      "[INFO] processing image 39/129\n",
      "dani\n",
      "[INFO] processing image 40/129\n",
      "dani\n",
      "[INFO] processing image 41/129\n",
      "dani\n",
      "[INFO] processing image 42/129\n",
      "dani\n",
      "[INFO] processing image 43/129\n",
      "dani\n",
      "[INFO] processing image 44/129\n",
      "dani\n",
      "[INFO] processing image 45/129\n",
      "dani\n",
      "[INFO] processing image 46/129\n",
      "dani\n",
      "[INFO] processing image 47/129\n",
      "dani\n",
      "[INFO] processing image 48/129\n",
      "dani\n",
      "[INFO] processing image 49/129\n",
      "dani\n",
      "[INFO] processing image 50/129\n",
      "dani\n",
      "[INFO] processing image 51/129\n",
      "dani\n",
      "[INFO] processing image 52/129\n",
      "dani\n",
      "[INFO] processing image 53/129\n",
      "dani\n",
      "[INFO] processing image 54/129\n",
      "dani\n",
      "[INFO] processing image 55/129\n",
      "dani\n",
      "[INFO] processing image 56/129\n",
      "dani\n",
      "[INFO] processing image 57/129\n",
      "unknown\n",
      "[INFO] processing image 58/129\n",
      "unknown\n",
      "[INFO] processing image 59/129\n",
      "unknown\n",
      "[INFO] processing image 60/129\n",
      "unknown\n",
      "[INFO] processing image 61/129\n",
      "unknown\n",
      "[INFO] processing image 62/129\n",
      "unknown\n",
      "[INFO] processing image 63/129\n",
      "unknown\n",
      "[INFO] processing image 64/129\n",
      "unknown\n",
      "[INFO] processing image 65/129\n",
      "unknown\n",
      "[INFO] processing image 66/129\n",
      "unknown\n",
      "[INFO] processing image 67/129\n",
      "unknown\n",
      "[INFO] processing image 68/129\n",
      "unknown\n",
      "[INFO] processing image 69/129\n",
      "unknown\n",
      "[INFO] processing image 70/129\n",
      "unknown\n",
      "[INFO] processing image 71/129\n",
      "unknown\n",
      "[INFO] processing image 72/129\n",
      "unknown\n",
      "[INFO] processing image 73/129\n",
      "unknown\n",
      "[INFO] processing image 74/129\n",
      "unknown\n",
      "[INFO] processing image 75/129\n",
      "unknown\n",
      "[INFO] processing image 76/129\n",
      "unknown\n",
      "[INFO] processing image 77/129\n",
      "unknown\n",
      "[INFO] processing image 78/129\n",
      "unknown\n",
      "[INFO] processing image 79/129\n",
      "unknown\n",
      "[INFO] processing image 80/129\n",
      "unknown\n",
      "[INFO] processing image 81/129\n",
      "unknown\n",
      "[INFO] processing image 82/129\n",
      "unknown\n",
      "[INFO] processing image 83/129\n",
      "unknown\n",
      "[INFO] processing image 84/129\n",
      "unknown\n",
      "[INFO] processing image 85/129\n",
      "unknown\n",
      "[INFO] processing image 86/129\n",
      "unknown\n",
      "[INFO] processing image 87/129\n",
      "unknown\n",
      "[INFO] processing image 88/129\n",
      "unknown\n",
      "[INFO] processing image 89/129\n",
      "unknown\n",
      "[INFO] processing image 90/129\n",
      "unknown\n",
      "[INFO] processing image 91/129\n",
      "unknown\n",
      "[INFO] processing image 92/129\n",
      "unknown\n",
      "[INFO] processing image 93/129\n",
      "unknown\n",
      "[INFO] processing image 94/129\n",
      "unknown\n",
      "[INFO] processing image 95/129\n",
      "unknown\n",
      "[INFO] processing image 96/129\n",
      "unknown\n",
      "[INFO] processing image 97/129\n",
      "unknown\n",
      "[INFO] processing image 98/129\n",
      "unknown\n",
      "[INFO] processing image 99/129\n",
      "unknown\n",
      "[INFO] processing image 100/129\n",
      "unknown\n",
      "[INFO] processing image 101/129\n",
      "unknown\n",
      "[INFO] processing image 102/129\n",
      "unknown\n",
      "[INFO] processing image 103/129\n",
      "unknown\n",
      "[INFO] processing image 104/129\n",
      "unknown\n",
      "[INFO] processing image 105/129\n",
      "unknown\n",
      "[INFO] processing image 106/129\n",
      "vinodh\n",
      "[INFO] processing image 107/129\n",
      "vinodh\n",
      "[INFO] processing image 108/129\n",
      "vinodh\n",
      "[INFO] processing image 109/129\n",
      "vinodh\n",
      "[INFO] processing image 110/129\n",
      "vinodh\n",
      "[INFO] processing image 111/129\n",
      "vinodh\n",
      "[INFO] processing image 112/129\n",
      "vinodh\n",
      "[INFO] processing image 113/129\n",
      "vinodh\n",
      "[INFO] processing image 114/129\n",
      "vinodh\n",
      "[INFO] processing image 115/129\n",
      "vinodh\n",
      "[INFO] processing image 116/129\n",
      "vinodh\n",
      "[INFO] processing image 117/129\n",
      "vinodh\n",
      "[INFO] processing image 118/129\n",
      "vinodh\n",
      "[INFO] processing image 119/129\n",
      "vinodh\n",
      "[INFO] processing image 120/129\n",
      "vinodh\n",
      "[INFO] processing image 121/129\n",
      "vinodh\n",
      "[INFO] processing image 122/129\n",
      "vinodh\n",
      "[INFO] processing image 123/129\n",
      "vinodh\n",
      "[INFO] processing image 124/129\n",
      "vinodh\n",
      "[INFO] processing image 125/129\n",
      "vinodh\n",
      "[INFO] processing image 126/129\n",
      "vinodh\n",
      "[INFO] processing image 127/129\n",
      "vinodh\n",
      "[INFO] processing image 128/129\n",
      "vinodh\n",
      "[INFO] processing image 129/129\n",
      "vinodh\n",
      "[INFO] serializing 128 encodings...\n"
     ]
    },
    {
     "data": {
      "image/png": "[encoded data removed]",
      "text/plain": [
       "<Figure size 432x288 with 1 Axes>"
      ]
     },
     "metadata": {
      "needs_background": "light"
     },
     "output_type": "display_data"
    }
   ],
   "source": [
    "# loop over the image paths\n",
    "for (i, image_path) in enumerate(image_paths):\n",
    "    # extract the person name from the image path\n",
    "    print(\"[INFO] processing image {}/{}\".format(i + 1, len(image_paths)))\n",
    "    name = image_path.split(os.path.sep)[-2]\n",
    "    name = re.split(\"[/]\", name)[-1]\n",
    "    print(name)\n",
    "    \n",
    "    # load the image, resize it to have a width of 600 pixels (while\n",
    "    # maintaining the aspect ratio), and then grab the image\n",
    "    # dimensions\n",
    "    \n",
    "    image = cv2.imread(image_path)\n",
    "    image = imutils.resize(image, width=600)\n",
    "    # height and width of image\n",
    "    (h, w) = image.shape[:2]\n",
    "    plt.imshow(image)\n",
    "    \n",
    "    # construct a blob from the image\n",
    "    imageBlob = cv2.dnn.blobFromImage(cv2.resize(image, (300, 300)), 1.0, (300, 300), (104.0, 177.0, 123.0), swapRB=False, crop=False)\n",
    "\n",
    "    # apply OpenCV's deep learning-based face detector to localize\n",
    "    # faces in the input image\n",
    "    detector.setInput(imageBlob)\n",
    "    detections = detector.forward()\n",
    "    \n",
    "    # ensure at least one face was found\n",
    "    if len(detections) > 0:\n",
    "        # we're making the assumption that each image has only ONE\n",
    "        # face, so find the bounding box with the largest probability\n",
    "        i = np.argmax(detections[0, 0, :, 2])\n",
    "        confidence = detections[0, 0, i, 2]\n",
    "\n",
    "        # ensure that the detection with the largest probability also\n",
    "        # means our minimum probability test (thus helping filter out\n",
    "        # weak detections)\n",
    "        if confidence > 0.5:\n",
    "            # compute the (x, y)-coordinates of the bounding box for\n",
    "            # the face\n",
    "            box = detections[0, 0, i, 3:7] * np.array([w, h, w, h])\n",
    "            (startX, startY, endX, endY) = box.astype(\"int\")\n",
    "\n",
    "            # extract the face ROI and grab the ROI dimensions\n",
    "            face = image[startY:endY, startX:endX]\n",
    "            (fH, fW) = face.shape[:2]\n",
    "\n",
    "            # ensure the face width and height are sufficiently large\n",
    "            if fW < 20 or fH < 20:\n",
    "                continue\n",
    "            # construct a blob for the face ROI, then pass the blob\n",
    "            # through our face embedding model to obtain the 128-d\n",
    "            # quantification of the face\n",
    "            faceBlob = cv2.dnn.blobFromImage(face, 1.0 / 255, (96, 96), (0, 0, 0), swapRB=True, crop=False)\n",
    "            embedder.setInput(faceBlob)\n",
    "            vec = embedder.forward()\n",
    "\n",
    "            # add the name of the person + corresponding face\n",
    "            # embedding to their respective lists\n",
    "            known_names.append(name)\n",
    "            known_embeddings.append(vec.flatten())\n",
    "            total += 1\n",
    "            \n",
    "# dump the facial embeddings + names to disk\n",
    "print(\"[INFO] serializing {} encodings...\".format(total))\n",
    "data = {\"embeddings\": known_embeddings, \"names\": known_names}\n",
    "f = open('output/embeddings.pickle', \"wb\")\n",
    "f.write(pickle.dumps(data))\n",
    "f.close()"
   ]
  },
  {
   "cell_type": "code",
   "execution_count": 44,
   "metadata": {},
   "outputs": [],
   "source": [
    "from sklearn.preprocessing import LabelEncoder\n",
    "from sklearn.svm import SVC\n",
    "import pickle"
   ]
  },
  {
   "cell_type": "code",
   "execution_count": 45,
   "metadata": {},
   "outputs": [
    {
     "name": "stdout",
     "output_type": "stream",
     "text": [
      "[INFO] loading face embeddings...\n",
      "[INFO] encoding labels...\n"
     ]
    }
   ],
   "source": [
    "# load the face embeddings\n",
    "print(\"[INFO] loading face embeddings...\")\n",
    "data = pickle.loads(open('output/embeddings.pickle', \"rb\").read())\n",
    "\n",
    "# encode the labels\n",
    "print(\"[INFO] encoding labels...\")\n",
    "le = LabelEncoder()\n",
    "labels = le.fit_transform(data[\"names\"])"
   ]
  },
  {
   "cell_type": "code",
   "execution_count": 46,
   "metadata": {},
   "outputs": [
    {
     "data": {
      "text/plain": [
       "(128,)"
      ]
     },
     "execution_count": 46,
     "metadata": {},
     "output_type": "execute_result"
    }
   ],
   "source": [
    "data['embeddings'][1].shape"
   ]
  },
  {
   "cell_type": "code",
   "execution_count": 48,
   "metadata": {},
   "outputs": [],
   "source": [
    "emb = data['embeddings']"
   ]
  },
  {
   "cell_type": "code",
   "execution_count": 49,
   "metadata": {},
   "outputs": [],
   "source": [
    "nam = data['names']"
   ]
  },
  {
   "cell_type": "code",
   "execution_count": 50,
   "metadata": {},
   "outputs": [
    {
     "data": {
      "text/plain": [
       "'dani'"
      ]
     },
     "execution_count": 50,
     "metadata": {},
     "output_type": "execute_result"
    }
   ],
   "source": [
    "nam[0]"
   ]
  },
  {
   "cell_type": "code",
   "execution_count": 51,
   "metadata": {},
   "outputs": [
    {
     "data": {
      "text/plain": [
       "128"
      ]
     },
     "execution_count": 51,
     "metadata": {},
     "output_type": "execute_result"
    }
   ],
   "source": [
    "len(emb)"
   ]
  },
  {
   "cell_type": "code",
   "execution_count": 52,
   "metadata": {},
   "outputs": [
    {
     "data": {
      "text/plain": [
       "128"
      ]
     },
     "execution_count": 52,
     "metadata": {},
     "output_type": "execute_result"
    }
   ],
   "source": [
    "len(nam)"
   ]
  },
  {
   "cell_type": "code",
   "execution_count": 53,
   "metadata": {},
   "outputs": [
    {
     "name": "stdout",
     "output_type": "stream",
     "text": [
      "['dani', 'dani', 'dani', 'dani', 'dani', 'dani', 'dani', 'dani', 'dani', 'dani', 'dani', 'dani', 'dani', 'dani', 'dani', 'dani', 'dani', 'dani', 'dani', 'dani', 'dani', 'dani', 'dani', 'dani', 'dani', 'dani', 'dani', 'dani', 'dani', 'dani', 'dani', 'dani', 'dani', 'dani', 'dani', 'dani', 'dani', 'dani', 'dani', 'dani', 'dani', 'dani', 'dani', 'dani', 'dani', 'dani', 'dani', 'dani', 'dani', 'dani', 'dani', 'dani', 'dani', 'dani', 'dani', 'dani', 'unknown', 'unknown', 'unknown', 'unknown', 'unknown', 'unknown', 'unknown', 'unknown', 'unknown', 'unknown', 'unknown', 'unknown', 'unknown', 'unknown', 'unknown', 'unknown', 'unknown', 'unknown', 'unknown', 'unknown', 'unknown', 'unknown', 'unknown', 'unknown', 'unknown', 'unknown', 'unknown', 'unknown', 'unknown', 'unknown', 'unknown', 'unknown', 'unknown', 'unknown', 'unknown', 'unknown', 'unknown', 'unknown', 'unknown', 'unknown', 'unknown', 'unknown', 'unknown', 'unknown', 'unknown', 'unknown', 'unknown', 'unknown', 'vinodh', 'vinodh', 'vinodh', 'vinodh', 'vinodh', 'vinodh', 'vinodh', 'vinodh', 'vinodh', 'vinodh', 'vinodh', 'vinodh', 'vinodh', 'vinodh', 'vinodh', 'vinodh', 'vinodh', 'vinodh', 'vinodh', 'vinodh', 'vinodh', 'vinodh', 'vinodh', 'vinodh']\n"
     ]
    }
   ],
   "source": [
    "print(nam)"
   ]
  },
  {
   "cell_type": "code",
   "execution_count": 54,
   "metadata": {},
   "outputs": [],
   "source": [
    "le = LabelEncoder()\n",
    "labels = le.fit_transform(data[\"names\"])"
   ]
  },
  {
   "cell_type": "code",
   "execution_count": 55,
   "metadata": {},
   "outputs": [
    {
     "data": {
      "text/plain": [
       "array([0, 0, 0, 0, 0, 0, 0, 0, 0, 0, 0, 0, 0, 0, 0, 0, 0, 0, 0, 0, 0, 0,\n",
       "       0, 0, 0, 0, 0, 0, 0, 0, 0, 0, 0, 0, 0, 0, 0, 0, 0, 0, 0, 0, 0, 0,\n",
       "       0, 0, 0, 0, 0, 0, 0, 0, 0, 0, 0, 0, 1, 1, 1, 1, 1, 1, 1, 1, 1, 1,\n",
       "       1, 1, 1, 1, 1, 1, 1, 1, 1, 1, 1, 1, 1, 1, 1, 1, 1, 1, 1, 1, 1, 1,\n",
       "       1, 1, 1, 1, 1, 1, 1, 1, 1, 1, 1, 1, 1, 1, 1, 1, 2, 2, 2, 2, 2, 2,\n",
       "       2, 2, 2, 2, 2, 2, 2, 2, 2, 2, 2, 2, 2, 2, 2, 2, 2, 2], dtype=int64)"
      ]
     },
     "execution_count": 55,
     "metadata": {},
     "output_type": "execute_result"
    }
   ],
   "source": [
    "labels"
   ]
  },
  {
   "cell_type": "code",
   "execution_count": 56,
   "metadata": {},
   "outputs": [],
   "source": [
    "from sklearn.model_selection import cross_val_score\n",
    "from sklearn.linear_model import LogisticRegression\n",
    "from sklearn.ensemble import RandomForestClassifier\n",
    "from sklearn.svm import SVC\n",
    "from sklearn.tree import DecisionTreeClassifier\n",
    "from sklearn.naive_bayes import BernoulliNB\n",
    "from sklearn.naive_bayes import GaussianNB\n",
    "from sklearn.naive_bayes import MultinomialNB"
   ]
  },
  {
   "cell_type": "code",
   "execution_count": 22,
   "metadata": {},
   "outputs": [],
   "source": [
    "list_model = [LogisticRegression(), RandomForestClassifier(n_estimators=100), RandomForestClassifier(n_estimators=500),\n",
    "              SVC(C=1.0, kernel=\"linear\", probability=True), DecisionTreeClassifier(),\n",
    "              BernoulliNB(binarize=True), BernoulliNB(binarize=0.1), GaussianNB(), RandomForestClassifier(n_estimators=50)]"
   ]
  },
  {
   "cell_type": "code",
   "execution_count": 23,
   "metadata": {},
   "outputs": [],
   "source": [
    "print_model = ['LogisticRegression()', 'RandomForestClassifier(n_estimators=100)', 'RandomForestClassifier(n_estimators=500)',\n",
    "              'SVC(tuned)', 'DecisionTreeClassifier()',\n",
    "              'BernoulliNB(binarize=True)', 'BernoulliNB(binarize=0.1)', 'GaussianNB()', 'RandomForestClassifier(n_estimators=50)']"
   ]
  },
  {
   "cell_type": "code",
   "execution_count": 24,
   "metadata": {},
   "outputs": [
    {
     "name": "stderr",
     "output_type": "stream",
     "text": [
      "E:\\c\\lib\\site-packages\\sklearn\\linear_model\\logistic.py:433: FutureWarning: Default solver will be changed to 'lbfgs' in 0.22. Specify a solver to silence this warning.\n",
      "  FutureWarning)\n",
      "E:\\c\\lib\\site-packages\\sklearn\\linear_model\\logistic.py:460: FutureWarning: Default multi_class will be changed to 'auto' in 0.22. Specify the multi_class option to silence this warning.\n",
      "  \"this warning.\", FutureWarning)\n",
      "E:\\c\\lib\\site-packages\\sklearn\\linear_model\\logistic.py:433: FutureWarning: Default solver will be changed to 'lbfgs' in 0.22. Specify a solver to silence this warning.\n",
      "  FutureWarning)\n",
      "E:\\c\\lib\\site-packages\\sklearn\\linear_model\\logistic.py:460: FutureWarning: Default multi_class will be changed to 'auto' in 0.22. Specify the multi_class option to silence this warning.\n",
      "  \"this warning.\", FutureWarning)\n",
      "E:\\c\\lib\\site-packages\\sklearn\\linear_model\\logistic.py:433: FutureWarning: Default solver will be changed to 'lbfgs' in 0.22. Specify a solver to silence this warning.\n",
      "  FutureWarning)\n",
      "E:\\c\\lib\\site-packages\\sklearn\\linear_model\\logistic.py:460: FutureWarning: Default multi_class will be changed to 'auto' in 0.22. Specify the multi_class option to silence this warning.\n",
      "  \"this warning.\", FutureWarning)\n",
      "E:\\c\\lib\\site-packages\\sklearn\\linear_model\\logistic.py:433: FutureWarning: Default solver will be changed to 'lbfgs' in 0.22. Specify a solver to silence this warning.\n",
      "  FutureWarning)\n",
      "E:\\c\\lib\\site-packages\\sklearn\\linear_model\\logistic.py:460: FutureWarning: Default multi_class will be changed to 'auto' in 0.22. Specify the multi_class option to silence this warning.\n",
      "  \"this warning.\", FutureWarning)\n",
      "E:\\c\\lib\\site-packages\\sklearn\\linear_model\\logistic.py:433: FutureWarning: Default solver will be changed to 'lbfgs' in 0.22. Specify a solver to silence this warning.\n",
      "  FutureWarning)\n",
      "E:\\c\\lib\\site-packages\\sklearn\\linear_model\\logistic.py:460: FutureWarning: Default multi_class will be changed to 'auto' in 0.22. Specify the multi_class option to silence this warning.\n",
      "  \"this warning.\", FutureWarning)\n"
     ]
    },
    {
     "name": "stdout",
     "output_type": "stream",
     "text": [
      "FINISHED TRAINING\n"
     ]
    }
   ],
   "source": [
    "list_result = []\n",
    "j = 0\n",
    "for i in list_model:\n",
    "    sc = cross_val_score(i, emb, labels, cv=5).mean()\n",
    "    list_result.append({print_model[j]:f\"score obtained ==> {sc}\"})\n",
    "    j+=1\n",
    "print(\"FINISHED TRAINING\")"
   ]
  },
  {
   "cell_type": "code",
   "execution_count": 25,
   "metadata": {},
   "outputs": [
    {
     "data": {
      "text/plain": [
       "0.8680940170940172"
      ]
     },
     "execution_count": 25,
     "metadata": {},
     "output_type": "execute_result"
    }
   ],
   "source": [
    "sc"
   ]
  },
  {
   "cell_type": "code",
   "execution_count": 26,
   "metadata": {},
   "outputs": [
    {
     "data": {
      "text/plain": [
       "[{'LogisticRegression()': 'score obtained ==> 0.8357834757834757'},\n",
       " {'RandomForestClassifier(n_estimators=100)': 'score obtained ==> 0.8526866096866097'},\n",
       " {'RandomForestClassifier(n_estimators=500)': 'score obtained ==> 0.8675014245014244'},\n",
       " {'SVC(tuned)': 'score obtained ==> 0.8742905982905983'},\n",
       " {'DecisionTreeClassifier()': 'score obtained ==> 0.7492735042735043'},\n",
       " {'BernoulliNB(binarize=True)': 'score obtained ==> 0.4377863247863248'},\n",
       " {'BernoulliNB(binarize=0.1)': 'score obtained ==> 0.8055612535612535'},\n",
       " {'GaussianNB()': 'score obtained ==> 0.8218461538461538'},\n",
       " {'RandomForestClassifier(n_estimators=50)': 'score obtained ==> 0.8680940170940172'}]"
      ]
     },
     "execution_count": 26,
     "metadata": {},
     "output_type": "execute_result"
    }
   ],
   "source": [
    "list_result"
   ]
  },
  {
   "cell_type": "markdown",
   "metadata": {},
   "source": [
    "### WE CHOOSE SVC (94.18%)"
   ]
  },
  {
   "cell_type": "code",
   "execution_count": 27,
   "metadata": {},
   "outputs": [
    {
     "data": {
      "text/plain": [
       "SVC(C=1.0, cache_size=200, class_weight=None, coef0=0.0,\n",
       "  decision_function_shape='ovr', degree=3, gamma='auto_deprecated',\n",
       "  kernel='linear', max_iter=-1, probability=True, random_state=None,\n",
       "  shrinking=True, tol=0.001, verbose=False)"
      ]
     },
     "execution_count": 27,
     "metadata": {},
     "output_type": "execute_result"
    }
   ],
   "source": [
    "recognizer = SVC(C=1.0, kernel=\"linear\", probability=True)\n",
    "recognizer.fit(data[\"embeddings\"], labels)"
   ]
  },
  {
   "cell_type": "code",
   "execution_count": null,
   "metadata": {},
   "outputs": [],
   "source": []
  },
  {
   "cell_type": "code",
   "execution_count": 28,
   "metadata": {},
   "outputs": [],
   "source": [
    "# write the actual face recognition model to disk\n",
    "f = open('output/recognizer.pickle', \"wb\")\n",
    "f.write(pickle.dumps(recognizer))\n",
    "f.close()\n",
    "\n",
    "# write the label encoder to disk\n",
    "f = open(\"output/le.pickle\", \"wb\")\n",
    "f.write(pickle.dumps(le))\n",
    "f.close()"
   ]
  },
  {
   "cell_type": "code",
   "execution_count": 29,
   "metadata": {},
   "outputs": [],
   "source": [
    "# import the necessary packages\n",
    "from imutils.video import VideoStream\n",
    "from imutils.video import FPS\n",
    "import numpy as np\n",
    "import imutils\n",
    "import pickle\n",
    "import time\n",
    "import cv2\n",
    "import os"
   ]
  },
  {
   "cell_type": "code",
   "execution_count": 30,
   "metadata": {},
   "outputs": [
    {
     "name": "stdout",
     "output_type": "stream",
     "text": [
      "[INFO] loading face detector...\n",
      "[INFO] loading face recognizer...\n"
     ]
    }
   ],
   "source": [
    "# load our serialized face detector from disk\n",
    "print(\"[INFO] loading face detector...\")\n",
    "protoPath = os.path.sep.join(['face_detection_model', \"deploy.prototxt\"])\n",
    "modelPath = os.path.sep.join(['face_detection_model', \"res10_300x300_ssd_iter_140000.caffemodel\"])\n",
    "detector = cv2.dnn.readNetFromCaffe(protoPath, modelPath)\n",
    "\n",
    "# load our serialized face embedding model from disk\n",
    "print(\"[INFO] loading face recognizer...\")\n",
    "embedder = cv2.dnn.readNetFromTorch('openface_nn4.small2.v1.t7')\n",
    "\n",
    "# load the actual face recognition model along with the label encoder\n",
    "recognizer = pickle.loads(open('output/recognizer.pickle', \"rb\").read())\n",
    "le = pickle.loads(open('output/le.pickle', \"rb\").read())"
   ]
  },
  {
   "cell_type": "code",
   "execution_count": 31,
   "metadata": {},
   "outputs": [
    {
     "name": "stdout",
     "output_type": "stream",
     "text": [
      "[INFO] starting video stream...\n",
      "[INFO] elasped time: 33.02\n",
      "[INFO] approx. FPS: 16.29\n"
     ]
    }
   ],
   "source": [
    "# initialize the video stream, then allow the camera sensor to warm up\n",
    "print(\"[INFO] starting video stream...\")\n",
    "# vs = VideoStream(src=0).start()\n",
    "vs = cv2.VideoCapture(0)\n",
    "time.sleep(4.0)\n",
    "\n",
    "# start the FPS throughput estimator\n",
    "fps = FPS().start()\n",
    "\n",
    "# loop over frames from the video file stream\n",
    "while True:\n",
    "    # grab the frame from the threaded video stream\n",
    "    ret, frame = vs.read()\n",
    "\n",
    "    # resize the frame to have a width of 600 pixels (while\n",
    "    # maintaining the aspect ratio), and then grab the image\n",
    "    # dimensions\n",
    "    frame = imutils.resize(frame, width=600)\n",
    "    (h, w) = frame.shape[:2]\n",
    "\n",
    "    # construct a blob from the image\n",
    "    imageBlob = cv2.dnn.blobFromImage(\n",
    "        cv2.resize(frame, (300, 300)), 1.0, (300, 300),\n",
    "        (104.0, 177.0, 123.0), swapRB=False, crop=False)\n",
    "\n",
    "    # apply OpenCV's deep learning-based face detector to localize\n",
    "    # faces in the input image\n",
    "    detector.setInput(imageBlob)\n",
    "    detections = detector.forward()\n",
    "    \n",
    "        # loop over the detections\n",
    "    for i in range(0, detections.shape[2]):\n",
    "        # extract the confidence (i.e., probability) associated with\n",
    "        # the prediction\n",
    "        confidence = detections[0, 0, i, 2]\n",
    "\n",
    "        # filter out weak detections\n",
    "        if confidence > 0.6:\n",
    "            # compute the (x, y)-coordinates of the bounding box for\n",
    "            # the face\n",
    "            box = detections[0, 0, i, 3:7] * np.array([w, h, w, h])\n",
    "            (startX, startY, endX, endY) = box.astype(\"int\")\n",
    "\n",
    "            # extract the face ROI\n",
    "            face = frame[startY:endY, startX:endX]\n",
    "            (fH, fW) = face.shape[:2]\n",
    "\n",
    "            # ensure the face width and height are sufficiently large\n",
    "            if fW < 20 or fH < 20:\n",
    "                continue\n",
    "            \n",
    "            # construct a blob for the face ROI, then pass the blob\n",
    "            # through our face embedding model to obtain the 128-d\n",
    "            # quantification of the face\n",
    "            faceBlob = cv2.dnn.blobFromImage(face, 1.0 / 255, (96, 96), (0, 0, 0), swapRB=True, crop=False)\n",
    "            embedder.setInput(faceBlob)\n",
    "            vec = embedder.forward()\n",
    "\n",
    "            # perform classification to recognize the face\n",
    "            preds = recognizer.predict_proba(vec)[0]\n",
    "            j = np.argmax(preds)\n",
    "            proba = preds[j]\n",
    "            name = le.classes_[j]\n",
    "\n",
    "            # draw the bounding box of the face along with the\n",
    "            # associated probability\n",
    "            text = \"{}: {:.2f}%\".format(name, proba * 100)\n",
    "            y = startY - 10 if startY - 10 > 10 else startY + 10\n",
    "            cv2.rectangle(frame, (startX, startY), (endX, endY), (0, 0, 255), 2)\n",
    "            cv2.putText(frame, text, (startX, y), cv2.FONT_HERSHEY_SIMPLEX, 0.45, (0, 0, 255), 2)\n",
    "\n",
    "    # update the FPS counter\n",
    "    fps.update()\n",
    "    \n",
    "    # show the output frame\n",
    "    cv2.imshow(\"Frame\", frame)\n",
    "    key = cv2.waitKey(1) & 0xFF\n",
    "\n",
    "    # if the `q` key was pressed, break from the loop\n",
    "    if key == ord(\"q\"):\n",
    "        break\n",
    "\n",
    "# stop the timer and display FPS information\n",
    "fps.stop()\n",
    "print(\"[INFO] elasped time: {:.2f}\".format(fps.elapsed()))\n",
    "print(\"[INFO] approx. FPS: {:.2f}\".format(fps.fps()))\n",
    "\n",
    "# do a bit of cleanup\n",
    "cv2.destroyAllWindows()\n",
    "# vs.stop()\n",
    "vs.release()"
   ]
  },
  {
   "cell_type": "code",
   "execution_count": 4,
   "metadata": {},
   "outputs": [],
   "source": [
    "import sklearn"
   ]
  },
  {
   "cell_type": "code",
   "execution_count": 5,
   "metadata": {},
   "outputs": [
    {
     "data": {
      "text/plain": [
       "'0.20.3'"
      ]
     },
     "execution_count": 5,
     "metadata": {},
     "output_type": "execute_result"
    }
   ],
   "source": [
    "sklearn.__version__"
   ]
  },
  {
   "cell_type": "code",
   "execution_count": 7,
   "metadata": {},
   "outputs": [],
   "source": [
    "set1 = {'asa'}\n",
    "set2 = ['sam', 'lad', 'asa']"
   ]
  },
  {
   "cell_type": "code",
   "execution_count": 8,
   "metadata": {},
   "outputs": [
    {
     "name": "stdout",
     "output_type": "stream",
     "text": [
      "asa\n"
     ]
    }
   ],
   "source": [
    "for i in set2:\n",
    "    if i in set1:\n",
    "        print(i)"
   ]
  },
  {
   "cell_type": "code",
   "execution_count": 1,
   "metadata": {},
   "outputs": [],
   "source": [
    "import os"
   ]
  },
  {
   "cell_type": "code",
   "execution_count": 3,
   "metadata": {},
   "outputs": [
    {
     "data": {
      "text/plain": [
       "\u001b[1;31mType:\u001b[0m        module\n",
       "\u001b[1;31mString form:\u001b[0m <module 'os' from 'E:\\\\c\\\\lib\\\\os.py'>\n",
       "\u001b[1;31mFile:\u001b[0m        e:\\c\\lib\\os.py\n",
       "\u001b[1;31mDocstring:\u001b[0m  \n",
       "OS routines for NT or Posix depending on what system we're on.\n",
       "\n",
       "This exports:\n",
       "  - all functions from posix or nt, e.g. unlink, stat, etc.\n",
       "  - os.path is either posixpath or ntpath\n",
       "  - os.name is either 'posix' or 'nt'\n",
       "  - os.curdir is a string representing the current directory (always '.')\n",
       "  - os.pardir is a string representing the parent directory (always '..')\n",
       "  - os.sep is the (or a most common) pathname separator ('/' or '\\\\')\n",
       "  - os.extsep is the extension separator (always '.')\n",
       "  - os.altsep is the alternate pathname separator (None or '/')\n",
       "  - os.pathsep is the component separator used in $PATH etc\n",
       "  - os.linesep is the line separator in text files ('\\r' or '\\n' or '\\r\\n')\n",
       "  - os.defpath is the default search path for executables\n",
       "  - os.devnull is the file path of the null device ('/dev/null', etc.)\n",
       "\n",
       "Programs that import and use 'os' stand a better chance of being\n",
       "portable between different platforms.  Of course, they must then\n",
       "only use functions that are defined by all platforms (e.g., unlink\n",
       "and opendir), and leave all pathname manipulation to os.path\n",
       "(e.g., split and join).\n"
      ]
     },
     "metadata": {},
     "output_type": "display_data"
    }
   ],
   "source": [
    "os."
   ]
  },
  {
   "cell_type": "code",
   "execution_count": null,
   "metadata": {},
   "outputs": [],
   "source": []
  },
  {
   "cell_type": "code",
   "execution_count": null,
   "metadata": {},
   "outputs": [],
   "source": []
  }
 ],
 "metadata": {
  "kernelspec": {
   "display_name": "Python 3",
   "language": "python",
   "name": "python3"
  },
  "language_info": {
   "codemirror_mode": {
    "name": "ipython",
    "version": 3
   },
   "file_extension": ".py",
   "mimetype": "text/x-python",
   "name": "python",
   "nbconvert_exporter": "python",
   "pygments_lexer": "ipython3",
   "version": "3.7.3"
  }
 },
 "nbformat": 4,
 "nbformat_minor": 2
}
